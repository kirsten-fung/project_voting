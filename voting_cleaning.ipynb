{
  "nbformat": 4,
  "nbformat_minor": 0,
  "metadata": {
    "colab": {
      "provenance": [],
      "authorship_tag": "ABX9TyPQqG1xwO7X/hWP++6GugRf",
      "include_colab_link": true
    },
    "kernelspec": {
      "name": "python3",
      "display_name": "Python 3"
    },
    "language_info": {
      "name": "python"
    }
  },
  "cells": [
    {
      "cell_type": "markdown",
      "metadata": {
        "id": "view-in-github",
        "colab_type": "text"
      },
      "source": [
        "<a href=\"https://colab.research.google.com/github/kirsten-fung/project_voting/blob/main/voting_cleaning.ipynb\" target=\"_parent\"><img src=\"https://colab.research.google.com/assets/colab-badge.svg\" alt=\"Open In Colab\"/></a>"
      ]
    },
    {
      "cell_type": "code",
      "execution_count": 39,
      "metadata": {
        "colab": {
          "base_uri": "https://localhost:8080/"
        },
        "id": "dlXPc82awFcH",
        "outputId": "b76f4c66-3cef-42a8-cfdd-66451ff1d46c"
      },
      "outputs": [
        {
          "output_type": "stream",
          "name": "stdout",
          "text": [
            "fatal: destination path 'project_voting' already exists and is not an empty directory.\n"
          ]
        }
      ],
      "source": [
        "! git clone https://github.com/kirsten-fung/project_voting"
      ]
    },
    {
      "cell_type": "code",
      "source": [
        "import pandas as pd\n",
        "import numpy as np"
      ],
      "metadata": {
        "id": "ZT6QT35LyYqj"
      },
      "execution_count": 40,
      "outputs": []
    },
    {
      "cell_type": "code",
      "source": [
        "df = pd.read_csv('/content/project_voting/data/county_data/0002_ds249_20205_county_E.csv',sep=',',encoding='latin-1')\n",
        "print(df)"
      ],
      "metadata": {
        "colab": {
          "base_uri": "https://localhost:8080/"
        },
        "id": "xgnWstdlyaxy",
        "outputId": "5d9bdfe3-5033-4492-cf38-537f00b0363a"
      },
      "execution_count": 41,
      "outputs": [
        {
          "output_type": "stream",
          "name": "stdout",
          "text": [
            "                  GISJOIN            YEAR                     STUSAB  \\\n",
            "0     GIS Join Match Code  Data File Year  State Postal Abbreviation   \n",
            "1                G0100010       2016-2020                         AL   \n",
            "2                G0100030       2016-2020                         AL   \n",
            "3                G0100050       2016-2020                         AL   \n",
            "4                G0100070       2016-2020                         AL   \n",
            "...                   ...             ...                        ...   \n",
            "3217             G7201450       2016-2020                         PR   \n",
            "3218             G7201470       2016-2020                         PR   \n",
            "3219             G7201490       2016-2020                         PR   \n",
            "3220             G7201510       2016-2020                         PR   \n",
            "3221             G7201530       2016-2020                         PR   \n",
            "\n",
            "          REGIONA      DIVISIONA        STATE      STATEA  \\\n",
            "0     Region Code  Division Code   State Name  State Code   \n",
            "1             NaN            NaN      Alabama          01   \n",
            "2             NaN            NaN      Alabama          01   \n",
            "3             NaN            NaN      Alabama          01   \n",
            "4             NaN            NaN      Alabama          01   \n",
            "...           ...            ...          ...         ...   \n",
            "3217          NaN            NaN  Puerto Rico          72   \n",
            "3218          NaN            NaN  Puerto Rico          72   \n",
            "3219          NaN            NaN  Puerto Rico          72   \n",
            "3220          NaN            NaN  Puerto Rico          72   \n",
            "3221          NaN            NaN  Puerto Rico          72   \n",
            "\n",
            "                   COUNTY      COUNTYA                  COUSUBA  ...  \\\n",
            "0             County Name  County Code  County Subdivision Code  ...   \n",
            "1          Autauga County          001                      NaN  ...   \n",
            "2          Baldwin County          003                      NaN  ...   \n",
            "3          Barbour County          005                      NaN  ...   \n",
            "4             Bibb County          007                      NaN  ...   \n",
            "...                   ...          ...                      ...  ...   \n",
            "3217  Vega Baja Municipio          145                      NaN  ...   \n",
            "3218    Vieques Municipio          147                      NaN  ...   \n",
            "3219   Villalba Municipio          149                      NaN  ...   \n",
            "3220    Yabucoa Municipio          151                      NaN  ...   \n",
            "3221      Yauco Municipio          153                      NaN  ...   \n",
            "\n",
            "                                               AMWSE004  \\\n",
            "0     With an Internet subscription: Broadband of an...   \n",
            "1                                                 17831   \n",
            "2                                                 71498   \n",
            "3                                                  6025   \n",
            "4                                                  5526   \n",
            "...                                                 ...   \n",
            "3217                                               9225   \n",
            "3218                                               1640   \n",
            "3219                                               5712   \n",
            "3220                                               7734   \n",
            "3221                                               5743   \n",
            "\n",
            "                                               AMWSE005  \\\n",
            "0     With an Internet subscription: Cellular data plan   \n",
            "1                                                 15390   \n",
            "2                                                 65644   \n",
            "3                                                  5351   \n",
            "4                                                  5074   \n",
            "...                                                 ...   \n",
            "3217                                               8620   \n",
            "3218                                               1544   \n",
            "3219                                               5483   \n",
            "3220                                               7248   \n",
            "3221                                               4675   \n",
            "\n",
            "                                               AMWSE006  \\\n",
            "0     With an Internet subscription: Cellular data p...   \n",
            "1                                                  2666   \n",
            "2                                                 13937   \n",
            "3                                                  1800   \n",
            "4                                                  1889   \n",
            "...                                                 ...   \n",
            "3217                                               2767   \n",
            "3218                                               1102   \n",
            "3219                                               2796   \n",
            "3220                                               4088   \n",
            "3221                                               1692   \n",
            "\n",
            "                                               AMWSE007  \\\n",
            "0     With an Internet subscription: Broadband such ...   \n",
            "1                                                 13780   \n",
            "2                                                 53139   \n",
            "3                                                  3620   \n",
            "4                                                  2669   \n",
            "...                                                 ...   \n",
            "3217                                               5726   \n",
            "3218                                                411   \n",
            "3219                                               2535   \n",
            "3220                                               2255   \n",
            "3221                                               3232   \n",
            "\n",
            "                                               AMWSE008  \\\n",
            "0     With an Internet subscription: Broadband such ...   \n",
            "1                                                  2004   \n",
            "2                                                  4634   \n",
            "3                                                   547   \n",
            "4                                                   307   \n",
            "...                                                 ...   \n",
            "3217                                                437   \n",
            "3218                                                 74   \n",
            "3219                                                182   \n",
            "3220                                                303   \n",
            "3221                                                890   \n",
            "\n",
            "                                               AMWSE009  \\\n",
            "0     With an Internet subscription: Satellite Inter...   \n",
            "1                                                  1695   \n",
            "2                                                  8874   \n",
            "3                                                   933   \n",
            "4                                                  1182   \n",
            "...                                                 ...   \n",
            "3217                                               1572   \n",
            "3218                                                189   \n",
            "3219                                                347   \n",
            "3220                                               1588   \n",
            "3221                                                279   \n",
            "\n",
            "                                               AMWSE010  \\\n",
            "0     With an Internet subscription: Satellite Inter...   \n",
            "1                                                   349   \n",
            "2                                                   788   \n",
            "3                                                    79   \n",
            "4                                                   142   \n",
            "...                                                 ...   \n",
            "3217                                                119   \n",
            "3218                                                  0   \n",
            "3219                                                 26   \n",
            "3220                                                143   \n",
            "3221                                                 71   \n",
            "\n",
            "                                               AMWSE011  \\\n",
            "0     With an Internet subscription: Other service w...   \n",
            "1                                                    57   \n",
            "2                                                     0   \n",
            "3                                                     0   \n",
            "4                                                     0   \n",
            "...                                                 ...   \n",
            "3217                                                 17   \n",
            "3218                                                  0   \n",
            "3219                                                  0   \n",
            "3220                                                  0   \n",
            "3221                                                  0   \n",
            "\n",
            "                                    AMWSE012            AMWSE013  \n",
            "0     Internet access without a subscription  No Internet access  \n",
            "1                                        402                3307  \n",
            "2                                       2149               10018  \n",
            "3                                        563                2700  \n",
            "4                                        210                1520  \n",
            "...                                      ...                 ...  \n",
            "3217                                     277                9794  \n",
            "3218                                      16                 738  \n",
            "3219                                     190                1987  \n",
            "3220                                      51                3865  \n",
            "3221                                     303                4734  \n",
            "\n",
            "[3222 rows x 992 columns]\n"
          ]
        },
        {
          "output_type": "stream",
          "name": "stderr",
          "text": [
            "<ipython-input-41-470925fadf60>:1: DtypeWarning: Columns (3,4,6,8,9,10,11,12,13,14,15,16,17,18,19,20,21,22,23,24,25,26,27,28,29,30,31,32,33,34,35,36,39,40,41,42,43,44,45,46,47,48,49,50,51,52,53,54,55,56,57,58,59,60,61,62,63,64,65,66,67,68,69,70,71,72,73,74,75,76,77,78,79,80,81,82,83,84,85,86,87,88,89,90,91,92,93,94,95,96,97,98,99,100,101,102,103,104,105,106,107,108,109,110,111,112,113,114,115,116,117,118,119,120,121,122,123,124,125,126,127,128,129,130,131,132,133,134,135,136,137,138,139,140,141,142,143,144,145,146,147,148,149,150,151,152,153,154,155,156,157,158,159,160,161,162,163,164,165,166,167,168,169,170,171,172,173,174,175,176,177,178,179,180,181,182,183,184,185,186,187,188,189,190,191,192,193,194,195,196,197,198,199,200,201,202,203,204,205,206,207,208,209,210,211,212,213,214,215,216,217,218,219,220,221,222,223,224,225,226,227,228,229,230,231,232,233,234,235,236,237,238,239,240,241,242,243,244,245,246,247,248,249,250,251,252,253,254,255,256,257,258,259,260,261,262,263,264,265,266,267,268,269,270,271,272,273,274,275,276,277,278,279,280,281,282,283,284,285,286,287,288,289,290,291,292,293,294,295,296,297,298,299,300,301,302,303,304,305,306,307,308,309,310,311,312,313,314,315,316,317,318,319,320,321,322,323,324,325,326,327,328,329,330,331,332,333,334,335,336,337,338,339,340,341,342,343,344,345,346,347,348,349,350,351,352,353,354,355,356,357,358,359,360,361,362,363,364,365,366,367,368,369,370,371,372,373,374,375,376,377,378,379,380,381,382,383,384,385,386,387,388,389,390,391,392,393,394,395,396,397,398,399,400,401,402,403,404,405,406,407,408,409,410,411,412,413,414,415,416,417,418,419,420,421,422,423,424,425,426,427,428,429,430,431,432,433,434,435,436,437,438,439,440,441,442,443,444,445,446,447,448,449,450,451,452,453,454,455,456,457,458,459,460,461,462,463,464,465,466,467,468,469,470,471,472,473,474,475,476,477,478,479,480,481,482,483,484,485,486,487,488,489,490,491,492,493,494,495,496,497,498,499,500,501,502,503,504,505,506,507,508,509,510,511,512,513,514,515,516,517,518,519,520,521,522,523,524,525,526,527,528,529,530,531,532,533,534,535,536,537,538,539,540,541,542,543,544,545,546,547,548,549,550,551,552,553,554,555,556,557,558,559,560,561,562,563,564,565,566,567,568,569,570,571,572,573,574,575,576,577,578,579,580,581,582,583,584,585,586,587,588,589,590,591,592,593,594,595,596,597,598,599,600,601,602,603,604,605,606,607,608,609,610,611,612,613,614,615,616,617,618,619,620,621,622,623,624,625,626,627,628,629,630,631,632,633,634,635,636,637,638,639,640,641,642,643,644,645,646,647,648,649,650,651,652,653,654,655,656,657,658,659,660,661,662,663,664,665,666,667,668,669,670,671,672,673,674,675,676,677,678,679,680,681,682,683,684,685,686,687,688,689,690,691,692,693,694,695,696,697,698,699,700,701,702,703,704,705,706,707,708,709,710,711,712,713,714,715,716,717,718,719,720,721,722,723,724,725,726,727,728,729,730,731,732,733,734,735,736,737,738,739,740,741,742,743,744,745,746,747,748,749,750,751,752,753,754,755,756,757,758,759,760,761,762,763,764,765,766,767,768,769,770,771,772,773,774,775,776,777,778,779,780,781,782,783,784,785,786,787,788,789,790,791,792,793,794,795,796,797,798,799,800,801,802,803,804,805,806,807,808,810,811,812,813,814,815,816,817,818,819,820,821,822,823,824,825,826,827,828,829,830,831,832,833,834,835,836,837,838,839,840,841,842,843,844,845,846,847,848,849,850,851,852,853,854,855,856,857,858,859,860,861,862,863,864,865,866,867,868,869,870,871,872,873,874,875,876,877,878,879,880,881,882,883,884,885,886,887,888,889,890,891,892,893,894,895,896,897,898,899,900,901,902,903,904,905,906,907,908,909,910,911,912,913,914,915,916,917,918,919,920,921,922,923,924,925,926,927,928,929,930,931,932,933,934,935,936,937,938,939,940,941,942,943,944,945,946,947,948,949,950,951,952,953,954,955,956,957,958,959,960,961,962,963,964,965,966,967,968,969,970,971,972,973,974,975,976,977,978,979,980,981,982,983,984,985,986,987,988,989,990,991) have mixed types. Specify dtype option on import or set low_memory=False.\n",
            "  df = pd.read_csv('/content/project_voting/data/county_data/0002_ds249_20205_county_E.csv',sep=',',encoding='latin-1')\n"
          ]
        }
      ]
    },
    {
      "cell_type": "code",
      "source": [
        "df = pd.read_csv('/content/project_voting/data/county_data/0002_ds176_20105_county_E.csv',sep=',',encoding='latin-1')\n",
        "print(df)"
      ],
      "metadata": {
        "colab": {
          "base_uri": "https://localhost:8080/"
        },
        "outputId": "b7aa3da4-7027-4b0a-b8db-1e6e838c40de",
        "id": "Yg_wx96nbgdj"
      },
      "execution_count": 42,
      "outputs": [
        {
          "output_type": "stream",
          "name": "stdout",
          "text": [
            "                  GISJOIN            YEAR                     STUSAB  \\\n",
            "0     GIS Join Match Code  Data File Year  State Postal Abbreviation   \n",
            "1                G0100010       2006-2010                         AL   \n",
            "2                G0100030       2006-2010                         AL   \n",
            "3                G0100050       2006-2010                         AL   \n",
            "4                G0100070       2006-2010                         AL   \n",
            "...                   ...             ...                        ...   \n",
            "3217             G7201450       2006-2010                         PR   \n",
            "3218             G7201470       2006-2010                         PR   \n",
            "3219             G7201490       2006-2010                         PR   \n",
            "3220             G7201510       2006-2010                         PR   \n",
            "3221             G7201530       2006-2010                         PR   \n",
            "\n",
            "          REGIONA      DIVISIONA        STATE      STATEA  \\\n",
            "0     Region Code  Division Code   State Name  State Code   \n",
            "1             NaN            NaN      Alabama          01   \n",
            "2             NaN            NaN      Alabama          01   \n",
            "3             NaN            NaN      Alabama          01   \n",
            "4             NaN            NaN      Alabama          01   \n",
            "...           ...            ...          ...         ...   \n",
            "3217          NaN            NaN  Puerto Rico          72   \n",
            "3218          NaN            NaN  Puerto Rico          72   \n",
            "3219          NaN            NaN  Puerto Rico          72   \n",
            "3220          NaN            NaN  Puerto Rico          72   \n",
            "3221          NaN            NaN  Puerto Rico          72   \n",
            "\n",
            "                   COUNTY      COUNTYA                  COUSUBA  ...  \\\n",
            "0             County Name  County Code  County Subdivision Code  ...   \n",
            "1          Autauga County          001                      NaN  ...   \n",
            "2          Baldwin County          003                      NaN  ...   \n",
            "3          Barbour County          005                      NaN  ...   \n",
            "4             Bibb County          007                      NaN  ...   \n",
            "...                   ...          ...                      ...  ...   \n",
            "3217  Vega Baja Municipio          145                      NaN  ...   \n",
            "3218    Vieques Municipio          147                      NaN  ...   \n",
            "3219   Villalba Municipio          149                      NaN  ...   \n",
            "3220    Yabucoa Municipio          151                      NaN  ...   \n",
            "3221      Yauco Municipio          153                      NaN  ...   \n",
            "\n",
            "                 JSDE003             JSDE004             JSDE005  \\\n",
            "0     Built 2000 to 2004  Built 1990 to 1999  Built 1980 to 1989   \n",
            "1                   2946                5142                3582   \n",
            "2                  22743               28796               16210   \n",
            "3                    493                2669                2412   \n",
            "4                    381                2202                1452   \n",
            "...                  ...                 ...                 ...   \n",
            "3217                1187                3763                5954   \n",
            "3218                  72                1132                 869   \n",
            "3219                 488                1586                2308   \n",
            "3220                 494                2994                2714   \n",
            "3221                 744                2742                4289   \n",
            "\n",
            "                 JSDE006             JSDE007             JSDE008  \\\n",
            "0     Built 1970 to 1979  Built 1960 to 1969  Built 1950 to 1959   \n",
            "1                   3542                2626                 931   \n",
            "2                  11233                5768                3516   \n",
            "3                   2095                1496                 966   \n",
            "4                   1591                1226                 673   \n",
            "...                  ...                 ...                 ...   \n",
            "3217                5714                2916                1640   \n",
            "3218                 875                 793                 470   \n",
            "3219                1883                1237                 571   \n",
            "3220                3076                2376                1288   \n",
            "3221                4452                2803                1100   \n",
            "\n",
            "                 JSDE009                JSDE010            JS5E001  \\\n",
            "0     Built 1940 to 1949  Built 1939 or earlier  Median gross rent   \n",
            "1                    235                    641                769   \n",
            "2                   1678                   2541                821   \n",
            "3                    573                   1055                512   \n",
            "4                    263                    890                541   \n",
            "...                  ...                    ...                ...   \n",
            "3217                 945                    305              508.0   \n",
            "3218                 110                     53              353.0   \n",
            "3219                 185                    171              257.0   \n",
            "3220                 404                    554              356.0   \n",
            "3221                 589                    533              371.0   \n",
            "\n",
            "                     JTIE001  \n",
            "0     Median value (dollars)  \n",
            "1                     133900  \n",
            "2                     177200  \n",
            "3                      88200  \n",
            "4                      81200  \n",
            "...                      ...  \n",
            "3217                  109900  \n",
            "3218                  115700  \n",
            "3219                   94300  \n",
            "3220                   90800  \n",
            "3221                   87800  \n",
            "\n",
            "[3222 rows x 272 columns]\n"
          ]
        },
        {
          "output_type": "stream",
          "name": "stderr",
          "text": [
            "<ipython-input-42-698ee415b1bb>:1: DtypeWarning: Columns (3,4,6,8,9,10,11,12,13,14,15,16,17,18,19,20,21,22,23,24,25,26,27,28,29,30,31,32,33,34,35,38,39,40,41,42,43,44,45,46,47,48,49,50,51,52,53,54,55,56,57,58,59,60,61,62,63,64,65,66,67,68,69,70,71,72,73,74,75,76,77,78,79,80,81,82,83,84,85,86,87,88,89,90,91,92,93,94,95,96,97,98,99,100,101,102,103,104,105,106,107,108,109,110,111,112,113,114,115,116,117,118,119,120,121,122,123,124,125,126,127,128,129,130,131,132,133,134,135,136,137,138,139,140,141,142,143,144,145,146,147,148,149,150,151,152,153,154,155,156,157,158,159,160,161,162,163,164,165,166,167,168,169,170,171,172,173,174,175,176,177,178,179,180,181,182,183,184,185,186,187,188,189,190,191,192,193,194,195,196,197,198,199,200,201,202,203,204,205,206,207,208,209,210,211,212,213,214,215,216,217,218,219,220,221,222,223,224,225,226,227,228,229,230,231,232,233,234,235,236,237,238,239,240,241,242,243,244,245,246,247,248,249,250,251,253,254,255,256,257,258,259,260,261,262,263,264,265,266,267,268,269,270,271) have mixed types. Specify dtype option on import or set low_memory=False.\n",
            "  df = pd.read_csv('/content/project_voting/data/county_data/0002_ds176_20105_county_E.csv',sep=',',encoding='latin-1')\n"
          ]
        }
      ]
    },
    {
      "cell_type": "code",
      "source": [
        "df.columns"
      ],
      "metadata": {
        "colab": {
          "base_uri": "https://localhost:8080/"
        },
        "id": "8grewxaZy7F-",
        "outputId": "3f8eacd2-cc8a-4a70-c7fe-6d89de458cf8"
      },
      "execution_count": 43,
      "outputs": [
        {
          "output_type": "execute_result",
          "data": {
            "text/plain": [
              "Index(['GISJOIN', 'YEAR', 'STUSAB', 'REGIONA', 'DIVISIONA', 'STATE', 'STATEA',\n",
              "       'COUNTY', 'COUNTYA', 'COUSUBA',\n",
              "       ...\n",
              "       'JSDE003', 'JSDE004', 'JSDE005', 'JSDE006', 'JSDE007', 'JSDE008',\n",
              "       'JSDE009', 'JSDE010', 'JS5E001', 'JTIE001'],\n",
              "      dtype='object', length=272)"
            ]
          },
          "metadata": {},
          "execution_count": 43
        }
      ]
    },
    {
      "cell_type": "code",
      "source": [
        "df.shape"
      ],
      "metadata": {
        "colab": {
          "base_uri": "https://localhost:8080/"
        },
        "id": "2DC0xHSX0cdJ",
        "outputId": "5ff9ec9e-868d-487b-dd71-e887840dc537"
      },
      "execution_count": 44,
      "outputs": [
        {
          "output_type": "execute_result",
          "data": {
            "text/plain": [
              "(3222, 272)"
            ]
          },
          "metadata": {},
          "execution_count": 44
        }
      ]
    },
    {
      "cell_type": "markdown",
      "source": [
        "**Dropping columns**"
      ],
      "metadata": {
        "id": "ubOLG5iOd2Ul"
      }
    },
    {
      "cell_type": "code",
      "source": [
        "# empty columns are not needed in our data set\n",
        "df.drop(columns=['REGIONA','DIVISIONA','COUSUBA','PLACEA','TRACTA','BLKGRPA','CONCITA','AIANHHA','RES_ONLYA','TRUSTA','AIHHTLI','AITSCEA','ANRCA','CBSAA','CSAA','METDIVA','NECTAA','CNECTAA','NECTADIVA','UAA','CDCURRA','SLDUA','SLDLA','SUBMCDA','SDELMA','SDSECA','SDUNIA','PCI','PUMAA','BTTRA','BTBGA',], inplace=True)"
      ],
      "metadata": {
        "id": "awEoAM5tciA1"
      },
      "execution_count": 45,
      "outputs": []
    },
    {
      "cell_type": "markdown",
      "source": [
        "**Renaming columns**"
      ],
      "metadata": {
        "id": "Cq0hrWQhmQNn"
      }
    },
    {
      "cell_type": "code",
      "source": [
        "# replace current column names with the description below (easier to understand)\n",
        "for col in df.columns:\n",
        "    new_name = df[col].iloc[0]\n",
        "    df.rename(columns={col: new_name}, inplace=True)\n",
        "\n",
        "# drop the first row\n",
        "df = df.drop(0)\n",
        "df.reset_index(drop=True, inplace=True)\n",
        "\n",
        "print(df.head())"
      ],
      "metadata": {
        "colab": {
          "base_uri": "https://localhost:8080/"
        },
        "id": "xf9lyGslfN2O",
        "outputId": "95ceff42-147d-4526-c678-cc02e8ded56c"
      },
      "execution_count": 46,
      "outputs": [
        {
          "output_type": "stream",
          "name": "stdout",
          "text": [
            "  GIS Join Match Code Data File Year State Postal Abbreviation State Name  \\\n",
            "0            G0100010      2006-2010                        AL    Alabama   \n",
            "1            G0100030      2006-2010                        AL    Alabama   \n",
            "2            G0100050      2006-2010                        AL    Alabama   \n",
            "3            G0100070      2006-2010                        AL    Alabama   \n",
            "4            G0100090      2006-2010                        AL    Alabama   \n",
            "\n",
            "  State Code     County Name County Code Geographic Identifier  \\\n",
            "0         01  Autauga County         001          05000US01001   \n",
            "1         01  Baldwin County         003          05000US01003   \n",
            "2         01  Barbour County         005          05000US01005   \n",
            "3         01     Bibb County         007          05000US01007   \n",
            "4         01   Blount County         009          05000US01009   \n",
            "\n",
            "                 Area Name   Total  ... Built 2000 to 2004 Built 1990 to 1999  \\\n",
            "0  Autauga County, Alabama   53155  ...               2946               5142   \n",
            "1  Baldwin County, Alabama  175791  ...              22743              28796   \n",
            "2  Barbour County, Alabama   27699  ...                493               2669   \n",
            "3     Bibb County, Alabama   22610  ...                381               2202   \n",
            "4   Blount County, Alabama   56692  ...               2366               5520   \n",
            "\n",
            "  Built 1980 to 1989 Built 1970 to 1979 Built 1960 to 1969 Built 1950 to 1959  \\\n",
            "0               3582               3542               2626                931   \n",
            "1              16210              11233               5768               3516   \n",
            "2               2412               2095               1496                966   \n",
            "3               1452               1591               1226                673   \n",
            "4               4054               4169               2335               1482   \n",
            "\n",
            "  Built 1940 to 1949 Built 1939 or earlier Median gross rent  \\\n",
            "0                235                   641               769   \n",
            "1               1678                  2541               821   \n",
            "2                573                  1055               512   \n",
            "3                263                   890               541   \n",
            "4               1032                  1313               574   \n",
            "\n",
            "  Median value (dollars)  \n",
            "0                 133900  \n",
            "1                 177200  \n",
            "2                  88200  \n",
            "3                  81200  \n",
            "4                 113700  \n",
            "\n",
            "[5 rows x 241 columns]\n"
          ]
        }
      ]
    },
    {
      "cell_type": "code",
      "source": [
        "df.shape"
      ],
      "metadata": {
        "colab": {
          "base_uri": "https://localhost:8080/"
        },
        "id": "N_V946fkoAP_",
        "outputId": "7e356175-98f3-480f-bc14-bd5cd5c99596"
      },
      "execution_count": 47,
      "outputs": [
        {
          "output_type": "execute_result",
          "data": {
            "text/plain": [
              "(3221, 241)"
            ]
          },
          "metadata": {},
          "execution_count": 47
        }
      ]
    },
    {
      "cell_type": "markdown",
      "source": [
        "**Checking for null**\n",
        "* dropped all null values because there were only 3 rows with null is expected to not significantly affect the analysis"
      ],
      "metadata": {
        "id": "27W3Mgx7mZaP"
      }
    },
    {
      "cell_type": "code",
      "source": [
        "df_cleaned = df.dropna()\n",
        "df_cleaned.shape"
      ],
      "metadata": {
        "colab": {
          "base_uri": "https://localhost:8080/"
        },
        "id": "J0cmRDXPn7sg",
        "outputId": "2d73ddd6-b202-43de-e782-1b6b4a2b9ae8"
      },
      "execution_count": 48,
      "outputs": [
        {
          "output_type": "execute_result",
          "data": {
            "text/plain": [
              "(3218, 241)"
            ]
          },
          "metadata": {},
          "execution_count": 48
        }
      ]
    },
    {
      "cell_type": "code",
      "source": [
        "if df_cleaned.isnull().values.any():\n",
        "    print(\"null present\")\n",
        "else:\n",
        "    print(\"no null\")"
      ],
      "metadata": {
        "colab": {
          "base_uri": "https://localhost:8080/"
        },
        "id": "Y1CRs0bAoaP8",
        "outputId": "bcebf2d6-9cf2-466f-f514-04fbc051c5f0"
      },
      "execution_count": 49,
      "outputs": [
        {
          "output_type": "stream",
          "name": "stdout",
          "text": [
            "no null\n"
          ]
        }
      ]
    },
    {
      "cell_type": "markdown",
      "source": [
        "**Create new csv**"
      ],
      "metadata": {
        "id": "6PXgvUv7ojrc"
      }
    },
    {
      "cell_type": "code",
      "source": [
        "df_cleaned.to_csv('cleandf.csv', index=False)"
      ],
      "metadata": {
        "id": "8yLCgThYj7CN"
      },
      "execution_count": 50,
      "outputs": []
    }
  ]
}